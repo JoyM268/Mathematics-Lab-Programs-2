{
 "cells": [
  {
   "cell_type": "markdown",
   "metadata": {},
   "source": [
    "Verify the rank-nullity theorem for the linear transformation $T: R^3 -> R^3$ defined by $T(x, y, z) = (x+4y+7z, 2x+5y+8z, 3x+6y+9z).$"
   ]
  },
  {
   "cell_type": "code",
   "execution_count": 2,
   "metadata": {
    "scrolled": true
   },
   "outputs": [
    {
     "name": "stdout",
     "output_type": "stream",
     "text": [
      "Rank of matrix 2\n",
      "Null space of the matrix [[-0.40824829]\n",
      " [ 0.81649658]\n",
      " [-0.40824829]]\n",
      "Null space of the matrix 1\n",
      "Rank - nullity theorem holds.\n"
     ]
    }
   ],
   "source": [
    "import numpy as np\n",
    "from scipy.linalg import null_space\n",
    "A = np.array([[1, 2, 3], [4, 5, 6], [7, 8, 9]])\n",
    "rank = np.linalg.matrix_rank(A)\n",
    "print(\"Rank of matrix\", rank)\n",
    "ns = null_space(A)\n",
    "print(\"Null space of the matrix\", ns)\n",
    "nullity = ns.shape[1]\n",
    "print(\"Null space of the matrix\", nullity)\n",
    "if rank + nullity == A.shape[1]:\n",
    "    print(\"Rank - nullity theorem holds.\")\n",
    "else:\n",
    "    print(\"Rank - nullity theorem does not hold\")"
   ]
  }
 ],
 "metadata": {
  "kernelspec": {
   "display_name": "Python 3",
   "language": "python",
   "name": "python3"
  },
  "language_info": {
   "codemirror_mode": {
    "name": "ipython",
    "version": 3
   },
   "file_extension": ".py",
   "mimetype": "text/x-python",
   "name": "python",
   "nbconvert_exporter": "python",
   "pygments_lexer": "ipython3",
   "version": "3.7.4"
  }
 },
 "nbformat": 4,
 "nbformat_minor": 2
}
