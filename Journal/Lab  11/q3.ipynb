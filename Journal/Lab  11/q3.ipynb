{
 "cells": [
  {
   "cell_type": "markdown",
   "metadata": {},
   "source": [
    "Extract the linearly independent rows in given matrix : Basis of Row space"
   ]
  },
  {
   "cell_type": "code",
   "execution_count": 1,
   "metadata": {},
   "outputs": [
    {
     "data": {
      "text/plain": [
       "'REF of given matrix: '"
      ]
     },
     "metadata": {},
     "output_type": "display_data"
    },
    {
     "data": {
      "text/latex": [
       "$\\displaystyle \\left[\\begin{matrix}1 & -1 & 1 & 1\\\\0 & -3 & 0 & 0\\\\0 & 0 & 2 & 0\\\\0 & 0 & 0 & 0\\end{matrix}\\right]$"
      ],
      "text/plain": [
       "Matrix([\n",
       "[1, -1, 1, 1],\n",
       "[0, -3, 0, 0],\n",
       "[0,  0, 2, 0],\n",
       "[0,  0, 0, 0]])"
      ]
     },
     "metadata": {},
     "output_type": "display_data"
    },
    {
     "name": "stdout",
     "output_type": "stream",
     "text": [
      "\n",
      "Basis are non-zero rows of A: \n"
     ]
    },
    {
     "data": {
      "text/latex": [
       "$\\displaystyle \\left[\\begin{matrix}1 & -1 & 1 & 1\\\\0 & -3 & 0 & 0\\\\0 & 0 & 2 & 0\\end{matrix}\\right]$"
      ],
      "text/plain": [
       "Matrix([\n",
       "[1, -1, 1, 1],\n",
       "[0, -3, 0, 0],\n",
       "[0,  0, 2, 0]])"
      ]
     },
     "metadata": {},
     "output_type": "display_data"
    }
   ],
   "source": [
    "from numpy import *\n",
    "import sympy as sp\n",
    "A = [[1, -1, 1 ,1], [2, -5, 2, 2], [3, -3, 5, 3], [4, -4, 4, 4]]\n",
    "AB = array(A)\n",
    "S = shape(A)\n",
    "n = len(A)\n",
    "for i in range(n):\n",
    "    if AB[i, i] == 0:\n",
    "        ab = copy(AB)\n",
    "        for k in range(i + 1, S[0]):\n",
    "            if ab[k, i] != 0:\n",
    "                ab[i,:] = AB[k,:]\n",
    "                ab[k,:] = AB[i,:]\n",
    "                AB = copy(ab)\n",
    "    for j in range(i + 1, n):\n",
    "        Fact = AB[j , i]/AB[i, i]\n",
    "        for k in range(i, n):\n",
    "            AB[j, k] = AB[j, k] - Fact * AB[i, k]\n",
    "display(\"REF of given matrix: \", sp.Matrix(AB))\n",
    "temp = {(0, 0, 0, 0)}\n",
    "result = []\n",
    "for idx, row in enumerate(map(tuple, AB)):\n",
    "    if row not in temp:\n",
    "        result.append(idx)\n",
    "print(\"\\nBasis are non-zero rows of A: \")\n",
    "display(sp.Matrix(AB[result]))"
   ]
  }
 ],
 "metadata": {
  "kernelspec": {
   "display_name": "Python 3",
   "language": "python",
   "name": "python3"
  },
  "language_info": {
   "codemirror_mode": {
    "name": "ipython",
    "version": 3
   },
   "file_extension": ".py",
   "mimetype": "text/x-python",
   "name": "python",
   "nbconvert_exporter": "python",
   "pygments_lexer": "ipython3",
   "version": "3.7.4"
  }
 },
 "nbformat": 4,
 "nbformat_minor": 2
}
