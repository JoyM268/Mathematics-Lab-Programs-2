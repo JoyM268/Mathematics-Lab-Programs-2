{
 "cells": [
  {
   "cell_type": "markdown",
   "metadata": {},
   "source": [
    "Find the dimensions of subspace spanned by the vectors $(1, 2, 3), (2, 3, 1)$ and $(3, 1, 2)$."
   ]
  },
  {
   "cell_type": "code",
   "execution_count": 2,
   "metadata": {
    "scrolled": true
   },
   "outputs": [
    {
     "name": "stdout",
     "output_type": "stream",
     "text": [
      "Basis of the matrix 3\n",
      "Dimension of the matrix 3\n"
     ]
    }
   ],
   "source": [
    "import numpy as np\n",
    "V = np.array([[1, 2, 3], [2, 3, 1], [3, 1, 2]])\n",
    "basis = np.linalg.matrix_rank(V)\n",
    "dimension = V.shape[0]\n",
    "print(\"Basis of the matrix\", basis)\n",
    "print(\"Dimension of the matrix\", dimension)"
   ]
  }
 ],
 "metadata": {
  "kernelspec": {
   "display_name": "Python 3",
   "language": "python",
   "name": "python3"
  },
  "language_info": {
   "codemirror_mode": {
    "name": "ipython",
    "version": 3
   },
   "file_extension": ".py",
   "mimetype": "text/x-python",
   "name": "python",
   "nbconvert_exporter": "python",
   "pygments_lexer": "ipython3",
   "version": "3.7.4"
  }
 },
 "nbformat": 4,
 "nbformat_minor": 2
}
