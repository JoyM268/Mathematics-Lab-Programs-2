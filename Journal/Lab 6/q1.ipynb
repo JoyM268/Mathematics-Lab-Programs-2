{
 "cells": [
  {
   "cell_type": "markdown",
   "metadata": {},
   "source": [
    "Evaluate $\\int_0^5 1/1 + x^2\\, dx$"
   ]
  },
  {
   "cell_type": "code",
   "execution_count": 1,
   "metadata": {},
   "outputs": [],
   "source": [
    "def my_func(x):\n",
    "    return 1/(1 + x**2)"
   ]
  },
  {
   "cell_type": "code",
   "execution_count": 3,
   "metadata": {},
   "outputs": [],
   "source": [
    "def trapezoidal(x0, xn, n):\n",
    "    h = (xn - x0)/n\n",
    "    integration = my_func(x0) + my_func(xn)\n",
    "    for i in range(1, n):\n",
    "        k = x0 + i * h\n",
    "        integration = integration + 2 * my_func(k)\n",
    "    integration = integration * h/2\n",
    "    return integration"
   ]
  },
  {
   "cell_type": "code",
   "execution_count": 5,
   "metadata": {},
   "outputs": [
    {
     "name": "stdout",
     "output_type": "stream",
     "text": [
      "Integration result by trapezoidal method is:  1.3731040812301099\n"
     ]
    }
   ],
   "source": [
    "lower_limit = float(input(\"Enter lower limit of integration: \"))\n",
    "upper_limit = float(input(\"Enter upper limit of integration: \"))\n",
    "sub_interval = int(input(\"Enter number of sub intervals: \"))\n",
    "result = trapezoidal(lower_limit, upper_limit, sub_interval)\n",
    "print(\"Integration result by trapezoidal method is: \", result)"
   ]
  }
 ],
 "metadata": {
  "kernelspec": {
   "display_name": "Python 3",
   "language": "python",
   "name": "python3"
  },
  "language_info": {
   "codemirror_mode": {
    "name": "ipython",
    "version": 3
   },
   "file_extension": ".py",
   "mimetype": "text/x-python",
   "name": "python",
   "nbconvert_exporter": "python",
   "pygments_lexer": "ipython3",
   "version": "3.11.4"
  },
  "orig_nbformat": 4
 },
 "nbformat": 4,
 "nbformat_minor": 2
}
