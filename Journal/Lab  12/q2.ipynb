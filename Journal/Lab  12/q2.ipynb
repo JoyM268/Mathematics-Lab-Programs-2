{
 "cells": [
  {
   "cell_type": "markdown",
   "metadata": {},
   "source": [
    "Write a python program to verify whether the following vectors $(2, 1, 5, 4)$ and $(3, 4, 7, 8)$ are orthogonal."
   ]
  },
  {
   "cell_type": "code",
   "execution_count": 2,
   "metadata": {},
   "outputs": [
    {
     "name": "stdout",
     "output_type": "stream",
     "text": [
      "Inner product is:  77\n",
      "given vectors are not orthogonal\n"
     ]
    }
   ],
   "source": [
    "import numpy as np\n",
    "A = np.array([2, 1, 5, 4])\n",
    "B = np.array([3, 4, 7, 8])\n",
    "output = np.dot(A, B)\n",
    "print('Inner product is: ',output)\n",
    "if output == 0:\n",
    "    print('given vectors are orthogonal')\n",
    "else:\n",
    "    print('given vectors are not orthogonal')"
   ]
  }
 ],
 "metadata": {
  "kernelspec": {
   "display_name": "Python 3",
   "language": "python",
   "name": "python3"
  },
  "language_info": {
   "codemirror_mode": {
    "name": "ipython",
    "version": 3
   },
   "file_extension": ".py",
   "mimetype": "text/x-python",
   "name": "python",
   "nbconvert_exporter": "python",
   "pygments_lexer": "ipython3",
   "version": "3.7.4"
  }
 },
 "nbformat": 4,
 "nbformat_minor": 2
}
