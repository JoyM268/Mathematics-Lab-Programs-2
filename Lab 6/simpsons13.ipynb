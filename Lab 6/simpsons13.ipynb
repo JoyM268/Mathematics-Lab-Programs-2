{
 "cells": [
  {
   "cell_type": "markdown",
   "metadata": {},
   "source": [
    "Evaluate $\\int_0^5 1/1 + x^2\\, dx$"
   ]
  },
  {
   "cell_type": "code",
   "execution_count": 4,
   "metadata": {},
   "outputs": [],
   "source": [
    "def my_func(x):\n",
    "    return 1/(1 + x**2)"
   ]
  },
  {
   "cell_type": "code",
   "execution_count": 5,
   "metadata": {},
   "outputs": [
    {
     "name": "stdout",
     "output_type": "stream",
     "text": [
      "Enter lower limit of integration: 0\n",
      "Enter upper limit of integration: 5\n",
      "Enter number of sub intervals: 10\n",
      "Integration result by simpson's 1/3 method is: 1.404120\n"
     ]
    }
   ],
   "source": [
    "def simpson13(x0, xn, n):\n",
    "    h = (xn - x0)/n\n",
    "    integration = (my_func(x0) + my_func(xn))\n",
    "    k = x0\n",
    "    for i in range(1, n):\n",
    "        if i%2 == 0:\n",
    "            integration = integration + 4 * my_func(k)\n",
    "        else:\n",
    "            integration = integration + 2 * my_func(k)\n",
    "        k += h\n",
    "    integration = integration * h * (1/3)\n",
    "    return integration\n",
    "lower_limit = float(input(\"Enter lower limit of integration: \"))\n",
    "upper_limit = float(input(\"Enter upper limit of integration: \"))\n",
    "sub_interval = int(input(\"Enter number of sub intervals: \"))\n",
    "result = simpson13(lower_limit, upper_limit, sub_interval)\n",
    "print(\"Integration result by simpson's 1/3 method is: %0.6f\" % (result))"
   ]
  }
 ],
 "metadata": {
  "kernelspec": {
   "display_name": "Python 3",
   "language": "python",
   "name": "python3"
  },
  "language_info": {
   "codemirror_mode": {
    "name": "ipython",
    "version": 3
   },
   "file_extension": ".py",
   "mimetype": "text/x-python",
   "name": "python",
   "nbconvert_exporter": "python",
   "pygments_lexer": "ipython3",
   "version": "3.11.4"
  },
  "orig_nbformat": 4
 },
 "nbformat": 4,
 "nbformat_minor": 2
}
