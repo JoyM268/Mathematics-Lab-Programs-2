{
 "cells": [
  {
   "cell_type": "code",
   "execution_count": 1,
   "metadata": {},
   "outputs": [
    {
     "name": "stdout",
     "output_type": "stream",
     "text": [
      "True\n"
     ]
    }
   ],
   "source": [
    "from sympy import beta, gamma\n",
    "m = 7/2;\n",
    "n = 11/2;\n",
    "s = beta(m, n);\n",
    "t = (gamma(m) * gamma(n))/gamma(m + n);\n",
    "if(abs(s - t) <= 0.00001):\n",
    "    print('True')\n",
    "else:\n",
    "    print('False')"
   ]
  }
 ],
 "metadata": {
  "kernelspec": {
   "display_name": "Python 3",
   "language": "python",
   "name": "python3"
  },
  "language_info": {
   "codemirror_mode": {
    "name": "ipython",
    "version": 3
   },
   "file_extension": ".py",
   "mimetype": "text/x-python",
   "name": "python",
   "nbconvert_exporter": "python",
   "pygments_lexer": "ipython3",
   "version": "3.7.4"
  }
 },
 "nbformat": 4,
 "nbformat_minor": 2
}
