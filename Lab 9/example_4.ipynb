{
 "cells": [
  {
   "cell_type": "code",
   "execution_count": 1,
   "metadata": {},
   "outputs": [
    {
     "name": "stdout",
     "output_type": "stream",
     "text": [
      "m :3\n",
      "n: 5\n",
      "gamma ( 5.0 ) is 24.000\n",
      "Beta ( 3.0 5.0 ) is 0.010\n"
     ]
    }
   ],
   "source": [
    "from sympy import beta, gamma\n",
    "m = input('m :');\n",
    "n = input('n: ');\n",
    "m = float(m);\n",
    "n = float(n);\n",
    "s = beta(m, n);\n",
    "t = gamma(n)\n",
    "print('gamma (', n, ') is %3.3f'%t)\n",
    "print('Beta (',m,n,') is %3.3f'%s)"
   ]
  }
 ],
 "metadata": {
  "kernelspec": {
   "display_name": "Python 3",
   "language": "python",
   "name": "python3"
  },
  "language_info": {
   "codemirror_mode": {
    "name": "ipython",
    "version": 3
   },
   "file_extension": ".py",
   "mimetype": "text/x-python",
   "name": "python",
   "nbconvert_exporter": "python",
   "pygments_lexer": "ipython3",
   "version": "3.7.4"
  }
 },
 "nbformat": 4,
 "nbformat_minor": 2
}
