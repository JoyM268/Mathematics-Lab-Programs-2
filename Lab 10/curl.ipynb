{
 "cells": [
  {
   "cell_type": "code",
   "execution_count": 1,
   "metadata": {},
   "outputs": [
    {
     "name": "stdout",
     "output_type": "stream",
     "text": [
      "Given vector point function is \n"
     ]
    },
    {
     "data": {
      "text/latex": [
       "$\\displaystyle x y^{2}\\mathbf{\\hat{v}_x} + 2 x^{2} y z\\mathbf{\\hat{v}_y} -  3 y z^{2}\\mathbf{\\hat{v}_z}$"
      ],
      "text/plain": [
       "x*y**2*v.x + 2*x**2*y*z*v.y - 3*y*z**2*v.z"
      ]
     },
     "metadata": {},
     "output_type": "display_data"
    },
    {
     "name": "stdout",
     "output_type": "stream",
     "text": [
      "\n",
      " curl of F=\n"
     ]
    },
    {
     "data": {
      "text/latex": [
       "$\\displaystyle (- 2 x^{2} y - 3 z^{2})\\mathbf{\\hat{v}_x} + (4 x y z - 2 x y)\\mathbf{\\hat{v}_z}$"
      ],
      "text/plain": [
       "(-2*x**2*y - 3*z**2)*v.x + (4*x*y*z - 2*x*y)*v.z"
      ]
     },
     "metadata": {},
     "output_type": "display_data"
    }
   ],
   "source": [
    "# To find curl of F = xy^2i + 2x^2yzj - 3yz^2k\n",
    "from sympy.physics.vector import *\n",
    "from sympy import var\n",
    "var('x, y, z')\n",
    "v = ReferenceFrame('v')\n",
    "F = v[0]*v[1]**2*v.x+2*v[0]**2*v[1]*v[2]*v.y-3*v[1]*v[2]**2*v.z\n",
    "G = curl(F, v)\n",
    "F = F.subs([(v[0], x), (v[1], y), (v[2], z)])\n",
    "print(\"Given vector point function is \")\n",
    "display(F)\n",
    "G = G.subs([(v[0], x), (v[1], y), (v[2], z)])\n",
    "print(\"\\n curl of F=\")\n",
    "display(G)"
   ]
  }
 ],
 "metadata": {
  "kernelspec": {
   "display_name": "Python 3",
   "language": "python",
   "name": "python3"
  },
  "language_info": {
   "codemirror_mode": {
    "name": "ipython",
    "version": 3
   },
   "file_extension": ".py",
   "mimetype": "text/x-python",
   "name": "python",
   "nbconvert_exporter": "python",
   "pygments_lexer": "ipython3",
   "version": "3.7.4"
  }
 },
 "nbformat": 4,
 "nbformat_minor": 2
}
