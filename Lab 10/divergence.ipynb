{
 "cells": [
  {
   "cell_type": "code",
   "execution_count": 1,
   "metadata": {
    "scrolled": true
   },
   "outputs": [
    {
     "name": "stdout",
     "output_type": "stream",
     "text": [
      "Given vector point function is \n"
     ]
    },
    {
     "data": {
      "text/latex": [
       "$\\displaystyle x^{2} y\\mathbf{\\hat{v}_x} + y z^{2}\\mathbf{\\hat{v}_y} + x^{2} z\\mathbf{\\hat{v}_z}$"
      ],
      "text/plain": [
       "x**2*y*v.x + y*z**2*v.y + x**2*z*v.z"
      ]
     },
     "metadata": {},
     "output_type": "display_data"
    },
    {
     "name": "stdout",
     "output_type": "stream",
     "text": [
      "\n",
      " Divergence of F=\n"
     ]
    },
    {
     "data": {
      "text/latex": [
       "$\\displaystyle x^{2} + 2 x y + z^{2}$"
      ],
      "text/plain": [
       "x**2 + 2*x*y + z**2"
      ]
     },
     "metadata": {},
     "output_type": "display_data"
    }
   ],
   "source": [
    "#To find divergence of F = x^2yi + yz^2j + x^2zk\n",
    "from sympy.physics.vector import *\n",
    "from sympy import var\n",
    "var('x, y, z')\n",
    "v = ReferenceFrame('v')\n",
    "F = v[0] **2*v[1]*v.x+v[1]*v[2]**2*v.y+v[0]**2*v[2]*v.z\n",
    "G = divergence(F, v)\n",
    "F = F.subs([(v[0], x), (v[1], y), (v[2], z)])\n",
    "print(\"Given vector point function is \")\n",
    "display(F)\n",
    "G = G.subs([(v[0], x), (v[1], y), (v[2], z)])\n",
    "print(\"\\n Divergence of F=\")\n",
    "display(G)"
   ]
  }
 ],
 "metadata": {
  "kernelspec": {
   "display_name": "Python 3",
   "language": "python",
   "name": "python3"
  },
  "language_info": {
   "codemirror_mode": {
    "name": "ipython",
    "version": 3
   },
   "file_extension": ".py",
   "mimetype": "text/x-python",
   "name": "python",
   "nbconvert_exporter": "python",
   "pygments_lexer": "ipython3",
   "version": "3.7.4"
  }
 },
 "nbformat": 4,
 "nbformat_minor": 2
}
