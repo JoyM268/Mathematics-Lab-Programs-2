{"nbformat":4,"nbformat_minor":0,"metadata":{"colab":{"provenance":[],"authorship_tag":"ABX9TyMY68bl7Ov+aM4qT/z2hcsH"},"kernelspec":{"name":"python3","display_name":"Python 3"},"language_info":{"name":"python"}},"cells":[{
   "cell_type": "markdown",
   "id": "0b21000c",
   "metadata": {},
   "source": [
    "$$\n",
    "\\int_0^3\\int_0^{3-x}\\int_0^{3-x-y} (xyz)\\, dzdydx\n",
    "$$"
   ]
  },{
   "cell_type": "markdown",
   "id": "42226c64",
   "metadata": {},
   "source": [
    "Write a python program to evaluate the integral"
   ]
  },,{"cell_type":"code","execution_count":4,"metadata":{"id":"mL1xvwhK5dYn","colab":{"base_uri":"https://localhost:8080/"},"executionInfo":{"status":"ok","timestamp":1686109075605,"user_tz":-330,"elapsed":52,"user":{"displayName":"Joy Mascarenhas","userId":"15267716422336630008"}},"outputId":"84cd1c5f-061d-41f4-8df9-3bef4370eb1f"},"outputs":[{"output_type":"stream","name":"stdout","text":["81/80\n"]}],"source":["from sympy import *\n","x,y,z=symbols('x y z')\n","w2=integrate((x*y*z),(z,0,3-x-y),(y,0,3-x),(x,0,3))\n","print(w2)"]}]}
