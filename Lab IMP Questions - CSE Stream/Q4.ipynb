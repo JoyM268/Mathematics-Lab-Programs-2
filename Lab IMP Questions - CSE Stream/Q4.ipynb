{
 "cells": [
  {
   "cell_type": "markdown",
   "metadata": {},
   "source": [
    "Write a python program to evaluate $\\int_0^6 1/1 + x^2\\, dx$ using simpsons's 3/8th rule."
   ]
  },
  {
   "cell_type": "code",
   "execution_count": 1,
   "metadata": {},
   "outputs": [
    {
     "name": "stdout",
     "output_type": "stream",
     "text": [
      "1.27631\n"
     ]
    }
   ],
   "source": [
    "def simpsons_3_8_rule(f, a, b, n):\n",
    "    h = (b - a)/n\n",
    "    s = f(a) + f(b)\n",
    "    for i in range(1, n, 3):\n",
    "        s += 3 * f(a + i * h)\n",
    "    for i in range(3, n - 1, 3):\n",
    "        s += 3 * f(a + i * h)\n",
    "    for i in range(2, n - 2, 3):\n",
    "        s += 2 * f(a + i * h)\n",
    "    return s *3 * h/8\n",
    "\n",
    "def f(x):\n",
    "    return 1/(1+x**2)\n",
    "\n",
    "a = 0\n",
    "b = 6\n",
    "n = 6\n",
    "\n",
    "result = simpsons_3_8_rule(f, a, b, n)\n",
    "print('%3.5f'%result)"
   ]
  }
 ],
 "metadata": {
  "kernelspec": {
   "display_name": "Python 3",
   "language": "python",
   "name": "python3"
  },
  "language_info": {
   "codemirror_mode": {
    "name": "ipython",
    "version": 3
   },
   "file_extension": ".py",
   "mimetype": "text/x-python",
   "name": "python",
   "nbconvert_exporter": "python",
   "pygments_lexer": "ipython3",
   "version": "3.11.4"
  },
  "orig_nbformat": 4
 },
 "nbformat": 4,
 "nbformat_minor": 2
}
