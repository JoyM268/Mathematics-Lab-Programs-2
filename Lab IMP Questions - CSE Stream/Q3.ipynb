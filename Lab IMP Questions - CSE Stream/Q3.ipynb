{
 "cells": [
  {
   "cell_type": "code",
   "execution_count": 1,
   "metadata": {},
   "outputs": [
    {
     "name": "stdout",
     "output_type": "stream",
     "text": [
      "Enter the function  x**3 - 2*x - 5\n",
      "Enter a value: 2\n",
      "Enter b value: 3\n",
      "Enter number of iterations: 5\n",
      "iteration 1  \t  the root 2.059  \t  function value -0.391\n",
      "\n",
      "iteration 2  \t  the root 2.081  \t  function value -0.147\n",
      "\n",
      "iteration 3  \t  the root 2.090  \t  function value -0.055\n",
      "\n",
      "iteration 4  \t  the root 2.093  \t  function value -0.020\n",
      "\n",
      "iteration 5  \t  the root 2.094  \t  function value -0.007\n",
      "\n"
     ]
    }
   ],
   "source": [
    "#Obtain a root of the equation x^2 - 2x - 5 = 0 between 2 and 3 by regula-falsi method. Perform 5 iterations.\n",
    "from sympy import *\n",
    "x = Symbol('x')\n",
    "g = input('Enter the function  ')\n",
    "f = lambdify(x, g)\n",
    "a = float(input('Enter a value: '))\n",
    "b = float(input('Enter b value: '))\n",
    "N = int(input('Enter number of iterations: '))\n",
    "\n",
    "for i in range(1, N + 1):\n",
    "    c = (a*f(b) - b*f(a))/(f(b) - f(a))\n",
    "    if((f(a)*f(c) < 0)):\n",
    "        b = c\n",
    "    else:\n",
    "        a = c\n",
    "    print('iteration %d  \\t  the root %0.3f  \\t  function value %0.3f\\n' %(i, c, f(c)));"
   ]
  }
 ],
 "metadata": {
  "kernelspec": {
   "display_name": "Python 3",
   "language": "python",
   "name": "python3"
  },
  "language_info": {
   "codemirror_mode": {
    "name": "ipython",
    "version": 3
   },
   "file_extension": ".py",
   "mimetype": "text/x-python",
   "name": "python",
   "nbconvert_exporter": "python",
   "pygments_lexer": "ipython3",
   "version": "3.11.4"
  },
  "orig_nbformat": 4
 },
 "nbformat": 4,
 "nbformat_minor": 2
}
