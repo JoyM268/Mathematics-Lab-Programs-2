{
 "cells": [
  {
   "cell_type": "markdown",
   "id": "0b21000c",
   "metadata": {},
   "source": [
    "$$\n",
    "\\int_0^3\\int_0^{3-x}\\int_0^{3-x-y} (xyz)\\, dzdydx\n",
    "$$"
   ]
  },
  {
   "cell_type": "markdown",
   "id": "42226c64",
   "metadata": {},
   "source": [
    "Write a python program to evaluate the integral"
   ]
  },
  {
   "cell_type": "code",
   "execution_count": null,
   "id": "673b68de",
   "metadata": {},
   "outputs": [],
   "source": [
    "import "
   ]
  }
 ],
 "metadata": {
  "kernelspec": {
   "display_name": "Python 3 (ipykernel)",
   "language": "python",
   "name": "python3"
  }
 },
 "nbformat": 4,
 "nbformat_minor": 5
}
