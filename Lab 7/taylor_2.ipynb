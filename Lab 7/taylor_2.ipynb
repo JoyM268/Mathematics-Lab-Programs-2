{
 "cells": [
  {
   "cell_type": "markdown",
   "metadata": {},
   "source": [
    "Solve $y' + 4y = x^2$ with initial conditions y(0) = 1 using Taylor series method at x = 0.1, 0.2."
   ]
  },
  {
   "cell_type": "code",
   "execution_count": 2,
   "metadata": {},
   "outputs": [
    {
     "name": "stdout",
     "output_type": "stream",
     "text": [
      "The required values are: at x = 0.00, y = 1.00000, x = 0.10, y = 0.66967, x = 0.20, y = 0.45026\n"
     ]
    }
   ],
   "source": [
    "from numpy import *\n",
    "def taylor(deriv, x, y, xStop, h):\n",
    "    X = []\n",
    "    Y = []\n",
    "    X.append(x)\n",
    "    Y.append(y)\n",
    "    while x < xStop:\n",
    "        D = deriv(x, y)\n",
    "        H = 1.0\n",
    "        for j in range(3):\n",
    "            H = H * h/(j + 1)\n",
    "            y = y + D[j] * H\n",
    "        x = x + h\n",
    "        X.append(x)\n",
    "        Y.append(y)\n",
    "    return array(X), array(Y)\n",
    "\n",
    "def deriv(x, y):\n",
    "    D = zeros((4, 1))\n",
    "    D[0] = [x**2-4*y[0]]\n",
    "    D[1] = [2*x-4*x**2+16*y[0]]\n",
    "    D[2] = [2 - 8*x + 16*x**2-64*y[0]]\n",
    "    D[3] = [-8+32*x-64*x**2+256*y[0]]\n",
    "    return D\n",
    "\n",
    "x = 0.0\n",
    "xStop = 0.2\n",
    "y = array([1.0])\n",
    "h = 0.1\n",
    "X, Y = taylor(deriv, x, y, xStop, h)\n",
    "\n",
    "print(\"The required values are: at x = %0.2f, y = %0.5f, x = %0.2f, y = %0.5f, x = %0.2f, y = %0.5f\" %(X[0], Y[0], X[1], Y[1], X[2], Y[2]))"
   ]
  }
 ],
 "metadata": {
  "kernelspec": {
   "display_name": "Python 3",
   "language": "python",
   "name": "python3"
  },
  "language_info": {
   "codemirror_mode": {
    "name": "ipython",
    "version": 3
   },
   "file_extension": ".py",
   "mimetype": "text/x-python",
   "name": "python",
   "nbconvert_exporter": "python",
   "pygments_lexer": "ipython3",
   "version": "3.11.4"
  },
  "orig_nbformat": 4
 },
 "nbformat": 4,
 "nbformat_minor": 2
}
